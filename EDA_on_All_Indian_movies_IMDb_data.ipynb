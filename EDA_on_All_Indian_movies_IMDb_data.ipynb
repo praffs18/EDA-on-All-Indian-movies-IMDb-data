{
  "nbformat": 4,
  "nbformat_minor": 0,
  "metadata": {
    "colab": {
      "provenance": [],
      "authorship_tag": "ABX9TyMOUZjYIurvc6doKjvSB/DZ",
      "include_colab_link": true
    },
    "kernelspec": {
      "name": "python3",
      "display_name": "Python 3"
    },
    "language_info": {
      "name": "python"
    }
  },
  "cells": [
    {
      "cell_type": "markdown",
      "metadata": {
        "id": "view-in-github",
        "colab_type": "text"
      },
      "source": [
        "<a href=\"https://colab.research.google.com/github/praffs18/EDA-on-All-Indian-movies-IMDb-data/blob/main/EDA_on_All_Indian_movies_IMDb_data.ipynb\" target=\"_parent\"><img src=\"https://colab.research.google.com/assets/colab-badge.svg\" alt=\"Open In Colab\"/></a>"
      ]
    },
    {
      "cell_type": "markdown",
      "source": [
        "EDA on All Indian movies IMDb Data\n",
        "\n",
        "This dataset of 15506 Indian movies taken from IMDb. This is all the Indian movies on IMDb as of 16/06/2021."
      ],
      "metadata": {
        "id": "KfkiWtz6cJq7"
      }
    },
    {
      "cell_type": "code",
      "execution_count": 1,
      "metadata": {
        "id": "7WnvdeMQbwnR"
      },
      "outputs": [],
      "source": [
        "# import all libraries\n",
        "import pandas as pd \n",
        "import numpy as np\n",
        "\n",
        "# import visualisation libraries\n",
        "import matplotlib.pyplot as plt\n",
        "import seaborn as sns"
      ]
    },
    {
      "cell_type": "code",
      "source": [],
      "metadata": {
        "id": "7-db-xY_c147"
      },
      "execution_count": null,
      "outputs": []
    }
  ]
}